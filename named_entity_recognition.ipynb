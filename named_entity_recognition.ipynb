{
 "cells": [
  {
   "cell_type": "code",
   "execution_count": 1,
   "id": "d146e7a1",
   "metadata": {},
   "outputs": [],
   "source": [
    "import warnings\n",
    "warnings.filterwarnings(\"ignore\")\n",
    "\n",
    "import pandas as pd\n",
    "from sklearn.model_selection import train_test_split, cross_validate\n",
    "from sklearn.metrics import (\n",
    "    roc_auc_score,\n",
    "    recall_score,\n",
    "    f1_score,\n",
    "    confusion_matrix,\n",
    "    precision_score,\n",
    ")\n",
    "import xgboost as xgb\n",
    "from xgboost import XGBClassifier\n",
    "from nltk import edit_distance, jaccard_distance\n",
    "import matplotlib.pyplot as plt\n"
   ]
  },
  {
   "cell_type": "code",
   "execution_count": 2,
   "id": "f08c7cf9",
   "metadata": {},
   "outputs": [
    {
     "data": {
      "application/javascript": [
       "\n",
       "            setTimeout(function() {\n",
       "                var nbb_cell_id = 2;\n",
       "                var nbb_unformatted_code = \"%load_ext nb_black\\n%load_ext autotime\\n%matplotlib inline\";\n",
       "                var nbb_formatted_code = \"%load_ext nb_black\\n%load_ext autotime\\n%matplotlib inline\";\n",
       "                var nbb_cells = Jupyter.notebook.get_cells();\n",
       "                for (var i = 0; i < nbb_cells.length; ++i) {\n",
       "                    if (nbb_cells[i].input_prompt_number == nbb_cell_id) {\n",
       "                        if (nbb_cells[i].get_text() == nbb_unformatted_code) {\n",
       "                             nbb_cells[i].set_text(nbb_formatted_code);\n",
       "                        }\n",
       "                        break;\n",
       "                    }\n",
       "                }\n",
       "            }, 500);\n",
       "            "
      ],
      "text/plain": [
       "<IPython.core.display.Javascript object>"
      ]
     },
     "metadata": {},
     "output_type": "display_data"
    },
    {
     "name": "stdout",
     "output_type": "stream",
     "text": [
      "time: 8.01 ms (started: 2022-09-28 02:24:45 +02:00)\n"
     ]
    }
   ],
   "source": [
    "%load_ext nb_black\n",
    "%load_ext autotime\n",
    "%matplotlib inline"
   ]
  },
  {
   "cell_type": "markdown",
   "id": "99f8fd60",
   "metadata": {},
   "source": [
    "# Load Data"
   ]
  },
  {
   "cell_type": "code",
   "execution_count": 3,
   "id": "17b056d7",
   "metadata": {},
   "outputs": [
    {
     "data": {
      "application/javascript": [
       "\n",
       "            setTimeout(function() {\n",
       "                var nbb_cell_id = 3;\n",
       "                var nbb_unformatted_code = \"df = pd.read_csv(\\\"ds_challenge_alpas.csv\\\", usecols=[\\\"entity_1\\\", \\\"entity_2\\\", \\\"tag\\\"])\";\n",
       "                var nbb_formatted_code = \"df = pd.read_csv(\\\"ds_challenge_alpas.csv\\\", usecols=[\\\"entity_1\\\", \\\"entity_2\\\", \\\"tag\\\"])\";\n",
       "                var nbb_cells = Jupyter.notebook.get_cells();\n",
       "                for (var i = 0; i < nbb_cells.length; ++i) {\n",
       "                    if (nbb_cells[i].input_prompt_number == nbb_cell_id) {\n",
       "                        if (nbb_cells[i].get_text() == nbb_unformatted_code) {\n",
       "                             nbb_cells[i].set_text(nbb_formatted_code);\n",
       "                        }\n",
       "                        break;\n",
       "                    }\n",
       "                }\n",
       "            }, 500);\n",
       "            "
      ],
      "text/plain": [
       "<IPython.core.display.Javascript object>"
      ]
     },
     "metadata": {},
     "output_type": "display_data"
    },
    {
     "name": "stdout",
     "output_type": "stream",
     "text": [
      "time: 5.79 s (started: 2022-09-28 02:24:45 +02:00)\n"
     ]
    }
   ],
   "source": [
    "df = pd.read_csv(\"ds_challenge_alpas.csv\", usecols=[\"entity_1\", \"entity_2\", \"tag\"])"
   ]
  },
  {
   "cell_type": "markdown",
   "id": "87a1ccd6",
   "metadata": {},
   "source": [
    "# Check how balanced are the tags or classes in other words"
   ]
  },
  {
   "cell_type": "code",
   "execution_count": 88,
   "id": "7ccde143",
   "metadata": {},
   "outputs": [
    {
     "data": {
      "text/plain": [
       "0    4162006\n",
       "1    2880840\n",
       "Name: tag, dtype: int64"
      ]
     },
     "execution_count": 88,
     "metadata": {},
     "output_type": "execute_result"
    },
    {
     "data": {
      "application/javascript": [
       "\n",
       "            setTimeout(function() {\n",
       "                var nbb_cell_id = 88;\n",
       "                var nbb_unformatted_code = \"df.tag.value_counts(dropna=False)\";\n",
       "                var nbb_formatted_code = \"df.tag.value_counts(dropna=False)\";\n",
       "                var nbb_cells = Jupyter.notebook.get_cells();\n",
       "                for (var i = 0; i < nbb_cells.length; ++i) {\n",
       "                    if (nbb_cells[i].input_prompt_number == nbb_cell_id) {\n",
       "                        if (nbb_cells[i].get_text() == nbb_unformatted_code) {\n",
       "                             nbb_cells[i].set_text(nbb_formatted_code);\n",
       "                        }\n",
       "                        break;\n",
       "                    }\n",
       "                }\n",
       "            }, 500);\n",
       "            "
      ],
      "text/plain": [
       "<IPython.core.display.Javascript object>"
      ]
     },
     "metadata": {},
     "output_type": "display_data"
    },
    {
     "name": "stdout",
     "output_type": "stream",
     "text": [
      "time: 73.1 ms (started: 2022-09-28 23:56:22 +02:00)\n"
     ]
    }
   ],
   "source": [
    "df.tag.value_counts(dropna=False)"
   ]
  },
  {
   "cell_type": "markdown",
   "id": "8521bf4d",
   "metadata": {},
   "source": [
    "### \"Pipelines\"\n",
    "\n",
    "* Applying basic text cleaning: \n",
    "    * Making all strings lower case\n",
    "    * Removing punctuation \n",
    "* Feature engineering \n",
    "    * Computing the `Levenshtein / Edit distance` between e1 and e2 \n",
    "    * Computing the `Levenshtein / Edit distance` between tokenized e1 and e2 \n",
    "    * Computing the `Jaccard distance` between tokenized e1 and e2\n",
    "    * Counting the difference in string length between e1 and e2 \n",
    "    * Counting the difference in token count between e1 and e2"
   ]
  },
  {
   "cell_type": "markdown",
   "id": "9c0433cb",
   "metadata": {},
   "source": [
    "# Why Jaccard and Levenstine?"
   ]
  },
  {
   "cell_type": "markdown",
   "id": "17731a60",
   "metadata": {},
   "source": [
    "Levenshtein distance is very useful to understand how similar two strings are, while taking into account the order."
   ]
  },
  {
   "cell_type": "code",
   "execution_count": 42,
   "id": "26d9527d",
   "metadata": {},
   "outputs": [
    {
     "data": {
      "text/plain": [
       "0"
      ]
     },
     "execution_count": 42,
     "metadata": {},
     "output_type": "execute_result"
    },
    {
     "data": {
      "application/javascript": [
       "\n",
       "            setTimeout(function() {\n",
       "                var nbb_cell_id = 42;\n",
       "                var nbb_unformatted_code = \"edit_distance([\\\"a\\\", \\\"b\\\", \\\"c\\\"], [\\\"a\\\", \\\"b\\\", \\\"c\\\"])\";\n",
       "                var nbb_formatted_code = \"edit_distance([\\\"a\\\", \\\"b\\\", \\\"c\\\"], [\\\"a\\\", \\\"b\\\", \\\"c\\\"])\";\n",
       "                var nbb_cells = Jupyter.notebook.get_cells();\n",
       "                for (var i = 0; i < nbb_cells.length; ++i) {\n",
       "                    if (nbb_cells[i].input_prompt_number == nbb_cell_id) {\n",
       "                        if (nbb_cells[i].get_text() == nbb_unformatted_code) {\n",
       "                             nbb_cells[i].set_text(nbb_formatted_code);\n",
       "                        }\n",
       "                        break;\n",
       "                    }\n",
       "                }\n",
       "            }, 500);\n",
       "            "
      ],
      "text/plain": [
       "<IPython.core.display.Javascript object>"
      ]
     },
     "metadata": {},
     "output_type": "display_data"
    },
    {
     "name": "stdout",
     "output_type": "stream",
     "text": [
      "time: 9.49 ms (started: 2022-09-28 23:22:36 +02:00)\n"
     ]
    }
   ],
   "source": [
    "edit_distance([\"a\", \"b\", \"c\"], [\"a\", \"b\", \"c\"])"
   ]
  },
  {
   "cell_type": "code",
   "execution_count": 41,
   "id": "540b89d6",
   "metadata": {},
   "outputs": [
    {
     "data": {
      "text/plain": [
       "2"
      ]
     },
     "execution_count": 41,
     "metadata": {},
     "output_type": "execute_result"
    },
    {
     "data": {
      "application/javascript": [
       "\n",
       "            setTimeout(function() {\n",
       "                var nbb_cell_id = 41;\n",
       "                var nbb_unformatted_code = \"edit_distance([\\\"a\\\", \\\"b\\\", \\\"c\\\"], [\\\"c\\\", \\\"b\\\", \\\"a\\\"])\";\n",
       "                var nbb_formatted_code = \"edit_distance([\\\"a\\\", \\\"b\\\", \\\"c\\\"], [\\\"c\\\", \\\"b\\\", \\\"a\\\"])\";\n",
       "                var nbb_cells = Jupyter.notebook.get_cells();\n",
       "                for (var i = 0; i < nbb_cells.length; ++i) {\n",
       "                    if (nbb_cells[i].input_prompt_number == nbb_cell_id) {\n",
       "                        if (nbb_cells[i].get_text() == nbb_unformatted_code) {\n",
       "                             nbb_cells[i].set_text(nbb_formatted_code);\n",
       "                        }\n",
       "                        break;\n",
       "                    }\n",
       "                }\n",
       "            }, 500);\n",
       "            "
      ],
      "text/plain": [
       "<IPython.core.display.Javascript object>"
      ]
     },
     "metadata": {},
     "output_type": "display_data"
    },
    {
     "name": "stdout",
     "output_type": "stream",
     "text": [
      "time: 11.6 ms (started: 2022-09-28 23:22:26 +02:00)\n"
     ]
    }
   ],
   "source": [
    "edit_distance([\"a\", \"b\", \"c\"], [\"c\", \"b\", \"a\"])"
   ]
  },
  {
   "cell_type": "markdown",
   "id": "8eb5aa7c",
   "metadata": {},
   "source": [
    "However, sometimes the order is the only thing that changes, but the meaning is the same. And that's one of the cases where Jaccard is useful."
   ]
  },
  {
   "cell_type": "code",
   "execution_count": 39,
   "id": "1984c320",
   "metadata": {},
   "outputs": [
    {
     "data": {
      "text/plain": [
       "0.0"
      ]
     },
     "execution_count": 39,
     "metadata": {},
     "output_type": "execute_result"
    },
    {
     "data": {
      "application/javascript": [
       "\n",
       "            setTimeout(function() {\n",
       "                var nbb_cell_id = 39;\n",
       "                var nbb_unformatted_code = \"jaccard_distance(set([\\\"a\\\", \\\"b\\\", \\\"c\\\"]), set([\\\"a\\\", \\\"b\\\", \\\"c\\\"]))\";\n",
       "                var nbb_formatted_code = \"jaccard_distance(set([\\\"a\\\", \\\"b\\\", \\\"c\\\"]), set([\\\"a\\\", \\\"b\\\", \\\"c\\\"]))\";\n",
       "                var nbb_cells = Jupyter.notebook.get_cells();\n",
       "                for (var i = 0; i < nbb_cells.length; ++i) {\n",
       "                    if (nbb_cells[i].input_prompt_number == nbb_cell_id) {\n",
       "                        if (nbb_cells[i].get_text() == nbb_unformatted_code) {\n",
       "                             nbb_cells[i].set_text(nbb_formatted_code);\n",
       "                        }\n",
       "                        break;\n",
       "                    }\n",
       "                }\n",
       "            }, 500);\n",
       "            "
      ],
      "text/plain": [
       "<IPython.core.display.Javascript object>"
      ]
     },
     "metadata": {},
     "output_type": "display_data"
    },
    {
     "name": "stdout",
     "output_type": "stream",
     "text": [
      "time: 9.29 ms (started: 2022-09-28 23:21:59 +02:00)\n"
     ]
    }
   ],
   "source": [
    "jaccard_distance(set([\"a\", \"b\", \"c\"]), set([\"a\", \"b\", \"c\"]))"
   ]
  },
  {
   "cell_type": "code",
   "execution_count": 5,
   "id": "15cc6e8a",
   "metadata": {},
   "outputs": [
    {
     "data": {
      "application/javascript": [
       "\n",
       "            setTimeout(function() {\n",
       "                var nbb_cell_id = 5;\n",
       "                var nbb_unformatted_code = \"def text_cleaning_pipeline(df):\\n    # make all characters lower case\\n    df[\\\"entity_1\\\"] = df[\\\"entity_1\\\"].str.lower()\\n    df[\\\"entity_2\\\"] = df[\\\"entity_2\\\"].str.lower()\\n    # remove punctuation\\n    df[\\\"entity_1\\\"] = df[\\\"entity_1\\\"].str.replace(\\\"[^\\\\w\\\\s]\\\", \\\"\\\")\\n    df[\\\"entity_2\\\"] = df[\\\"entity_2\\\"].str.replace(\\\"[^\\\\w\\\\s]\\\", \\\"\\\")\\n\\n    return df\";\n",
       "                var nbb_formatted_code = \"def text_cleaning_pipeline(df):\\n    # make all characters lower case\\n    df[\\\"entity_1\\\"] = df[\\\"entity_1\\\"].str.lower()\\n    df[\\\"entity_2\\\"] = df[\\\"entity_2\\\"].str.lower()\\n    # remove punctuation\\n    df[\\\"entity_1\\\"] = df[\\\"entity_1\\\"].str.replace(\\\"[^\\\\w\\\\s]\\\", \\\"\\\")\\n    df[\\\"entity_2\\\"] = df[\\\"entity_2\\\"].str.replace(\\\"[^\\\\w\\\\s]\\\", \\\"\\\")\\n\\n    return df\";\n",
       "                var nbb_cells = Jupyter.notebook.get_cells();\n",
       "                for (var i = 0; i < nbb_cells.length; ++i) {\n",
       "                    if (nbb_cells[i].input_prompt_number == nbb_cell_id) {\n",
       "                        if (nbb_cells[i].get_text() == nbb_unformatted_code) {\n",
       "                             nbb_cells[i].set_text(nbb_formatted_code);\n",
       "                        }\n",
       "                        break;\n",
       "                    }\n",
       "                }\n",
       "            }, 500);\n",
       "            "
      ],
      "text/plain": [
       "<IPython.core.display.Javascript object>"
      ]
     },
     "metadata": {},
     "output_type": "display_data"
    },
    {
     "name": "stdout",
     "output_type": "stream",
     "text": [
      "time: 3.54 ms (started: 2022-09-28 02:24:51 +02:00)\n"
     ]
    }
   ],
   "source": [
    "def text_cleaning_pipeline(df):\n",
    "    # make all characters lower case\n",
    "    df[\"entity_1\"] = df[\"entity_1\"].str.lower()\n",
    "    df[\"entity_2\"] = df[\"entity_2\"].str.lower()\n",
    "    # remove punctuation\n",
    "    df[\"entity_1\"] = df[\"entity_1\"].str.replace(\"[^\\w\\s]\", \"\")\n",
    "    df[\"entity_2\"] = df[\"entity_2\"].str.replace(\"[^\\w\\s]\", \"\")\n",
    "\n",
    "    return df"
   ]
  },
  {
   "cell_type": "code",
   "execution_count": 6,
   "id": "1c74baa2",
   "metadata": {},
   "outputs": [
    {
     "data": {
      "application/javascript": [
       "\n",
       "            setTimeout(function() {\n",
       "                var nbb_cell_id = 6;\n",
       "                var nbb_unformatted_code = \"def feature_engineering_pipeline(df):\\n    # difference in string lengths\\n    df[\\\"len_delta\\\"] = df.apply(\\n        lambda x: abs(len(x[\\\"entity_1\\\"]) - len((x[\\\"entity_2\\\"]))),\\n        axis=1,\\n    )\\n    # tokenize the strings\\n    df[\\\"entity_1_tokenized\\\"] = df[\\\"entity_1\\\"].str.split(\\\" \\\")\\n    df[\\\"entity_2_tokenized\\\"] = df[\\\"entity_2\\\"].str.split(\\\" \\\")\\n\\n    # difference in the number of tokens\\n    df[\\\"token_count_delta\\\"] = df.apply(\\n        lambda x: abs(len(x[\\\"entity_1_tokenized\\\"]) - len((x[\\\"entity_2_tokenized\\\"]))),\\n        axis=1,\\n    )\\n    # levenstein distance / edit distance - the lower it is the more similar the strings are\\n    df[\\\"l_distance\\\"] = df.apply(\\n        lambda x: edit_distance(x[\\\"entity_1\\\"], x[\\\"entity_2\\\"]), axis=1\\n    )\\n\\n    # levenstein distance / edit distance on tokenized strings\\n    df[\\\"l_distance_tokenized\\\"] = df.apply(\\n        lambda x: edit_distance(x[\\\"entity_1_tokenized\\\"], x[\\\"entity_2_tokenized\\\"]),\\n        axis=1,\\n    )\\n    # jaccard distance - the lower it is the more similar the strings are\\n    df[\\\"j_distance_tokenized\\\"] = df.apply(\\n        lambda x: jaccard_distance(\\n            set(x[\\\"entity_1_tokenized\\\"]), set(x[\\\"entity_2_tokenized\\\"])\\n        ),\\n        axis=1,\\n    )\\n\\n    return df\";\n",
       "                var nbb_formatted_code = \"def feature_engineering_pipeline(df):\\n    # difference in string lengths\\n    df[\\\"len_delta\\\"] = df.apply(\\n        lambda x: abs(len(x[\\\"entity_1\\\"]) - len((x[\\\"entity_2\\\"]))),\\n        axis=1,\\n    )\\n    # tokenize the strings\\n    df[\\\"entity_1_tokenized\\\"] = df[\\\"entity_1\\\"].str.split(\\\" \\\")\\n    df[\\\"entity_2_tokenized\\\"] = df[\\\"entity_2\\\"].str.split(\\\" \\\")\\n\\n    # difference in the number of tokens\\n    df[\\\"token_count_delta\\\"] = df.apply(\\n        lambda x: abs(len(x[\\\"entity_1_tokenized\\\"]) - len((x[\\\"entity_2_tokenized\\\"]))),\\n        axis=1,\\n    )\\n    # levenstein distance / edit distance - the lower it is the more similar the strings are\\n    df[\\\"l_distance\\\"] = df.apply(\\n        lambda x: edit_distance(x[\\\"entity_1\\\"], x[\\\"entity_2\\\"]), axis=1\\n    )\\n\\n    # levenstein distance / edit distance on tokenized strings\\n    df[\\\"l_distance_tokenized\\\"] = df.apply(\\n        lambda x: edit_distance(x[\\\"entity_1_tokenized\\\"], x[\\\"entity_2_tokenized\\\"]),\\n        axis=1,\\n    )\\n    # jaccard distance - the lower it is the more similar the strings are\\n    df[\\\"j_distance_tokenized\\\"] = df.apply(\\n        lambda x: jaccard_distance(\\n            set(x[\\\"entity_1_tokenized\\\"]), set(x[\\\"entity_2_tokenized\\\"])\\n        ),\\n        axis=1,\\n    )\\n\\n    return df\";\n",
       "                var nbb_cells = Jupyter.notebook.get_cells();\n",
       "                for (var i = 0; i < nbb_cells.length; ++i) {\n",
       "                    if (nbb_cells[i].input_prompt_number == nbb_cell_id) {\n",
       "                        if (nbb_cells[i].get_text() == nbb_unformatted_code) {\n",
       "                             nbb_cells[i].set_text(nbb_formatted_code);\n",
       "                        }\n",
       "                        break;\n",
       "                    }\n",
       "                }\n",
       "            }, 500);\n",
       "            "
      ],
      "text/plain": [
       "<IPython.core.display.Javascript object>"
      ]
     },
     "metadata": {},
     "output_type": "display_data"
    },
    {
     "name": "stdout",
     "output_type": "stream",
     "text": [
      "time: 7.1 ms (started: 2022-09-28 02:24:51 +02:00)\n"
     ]
    }
   ],
   "source": [
    "def feature_engineering_pipeline(df):\n",
    "    # difference in string lengths\n",
    "    df[\"len_delta\"] = df.apply(\n",
    "        lambda x: abs(len(x[\"entity_1\"]) - len((x[\"entity_2\"]))),\n",
    "        axis=1,\n",
    "    )\n",
    "    # tokenize the strings\n",
    "    df[\"entity_1_tokenized\"] = df[\"entity_1\"].str.split(\" \")\n",
    "    df[\"entity_2_tokenized\"] = df[\"entity_2\"].str.split(\" \")\n",
    "\n",
    "    # difference in the number of tokens\n",
    "    df[\"token_count_delta\"] = df.apply(\n",
    "        lambda x: abs(len(x[\"entity_1_tokenized\"]) - len((x[\"entity_2_tokenized\"]))),\n",
    "        axis=1,\n",
    "    )\n",
    "    # levenstein distance / edit distance - the lower it is the more similar the strings are\n",
    "    df[\"l_distance\"] = df.apply(\n",
    "        lambda x: edit_distance(x[\"entity_1\"], x[\"entity_2\"]), axis=1\n",
    "    )\n",
    "\n",
    "    # levenstein distance / edit distance on tokenized strings\n",
    "    df[\"l_distance_tokenized\"] = df.apply(\n",
    "        lambda x: edit_distance(x[\"entity_1_tokenized\"], x[\"entity_2_tokenized\"]),\n",
    "        axis=1,\n",
    "    )\n",
    "    # jaccard distance - the lower it is the more similar the strings are\n",
    "    df[\"j_distance_tokenized\"] = df.apply(\n",
    "        lambda x: jaccard_distance(\n",
    "            set(x[\"entity_1_tokenized\"]), set(x[\"entity_2_tokenized\"])\n",
    "        ),\n",
    "        axis=1,\n",
    "    )\n",
    "\n",
    "    return df"
   ]
  },
  {
   "cell_type": "markdown",
   "id": "f3de7864",
   "metadata": {},
   "source": [
    "# Pipeline"
   ]
  },
  {
   "cell_type": "code",
   "execution_count": 7,
   "id": "dd4ff5ab",
   "metadata": {},
   "outputs": [
    {
     "data": {
      "application/javascript": [
       "\n",
       "            setTimeout(function() {\n",
       "                var nbb_cell_id = 7;\n",
       "                var nbb_unformatted_code = \"df = df.drop_duplicates(subset=[\\\"entity_1\\\", \\\"entity_2\\\"])\";\n",
       "                var nbb_formatted_code = \"df = df.drop_duplicates(subset=[\\\"entity_1\\\", \\\"entity_2\\\"])\";\n",
       "                var nbb_cells = Jupyter.notebook.get_cells();\n",
       "                for (var i = 0; i < nbb_cells.length; ++i) {\n",
       "                    if (nbb_cells[i].input_prompt_number == nbb_cell_id) {\n",
       "                        if (nbb_cells[i].get_text() == nbb_unformatted_code) {\n",
       "                             nbb_cells[i].set_text(nbb_formatted_code);\n",
       "                        }\n",
       "                        break;\n",
       "                    }\n",
       "                }\n",
       "            }, 500);\n",
       "            "
      ],
      "text/plain": [
       "<IPython.core.display.Javascript object>"
      ]
     },
     "metadata": {},
     "output_type": "display_data"
    },
    {
     "name": "stdout",
     "output_type": "stream",
     "text": [
      "time: 5.27 s (started: 2022-09-28 02:24:51 +02:00)\n"
     ]
    }
   ],
   "source": [
    "df = df.drop_duplicates(subset=[\"entity_1\", \"entity_2\"])"
   ]
  },
  {
   "cell_type": "code",
   "execution_count": 8,
   "id": "a1a1cbd3",
   "metadata": {},
   "outputs": [
    {
     "data": {
      "application/javascript": [
       "\n",
       "            setTimeout(function() {\n",
       "                var nbb_cell_id = 8;\n",
       "                var nbb_unformatted_code = \"df = text_cleaning_pipeline(df)\";\n",
       "                var nbb_formatted_code = \"df = text_cleaning_pipeline(df)\";\n",
       "                var nbb_cells = Jupyter.notebook.get_cells();\n",
       "                for (var i = 0; i < nbb_cells.length; ++i) {\n",
       "                    if (nbb_cells[i].input_prompt_number == nbb_cell_id) {\n",
       "                        if (nbb_cells[i].get_text() == nbb_unformatted_code) {\n",
       "                             nbb_cells[i].set_text(nbb_formatted_code);\n",
       "                        }\n",
       "                        break;\n",
       "                    }\n",
       "                }\n",
       "            }, 500);\n",
       "            "
      ],
      "text/plain": [
       "<IPython.core.display.Javascript object>"
      ]
     },
     "metadata": {},
     "output_type": "display_data"
    },
    {
     "name": "stdout",
     "output_type": "stream",
     "text": [
      "time: 12.2 s (started: 2022-09-28 02:24:56 +02:00)\n"
     ]
    }
   ],
   "source": [
    "df = text_cleaning_pipeline(df)"
   ]
  },
  {
   "cell_type": "code",
   "execution_count": 9,
   "id": "f5fa4882",
   "metadata": {},
   "outputs": [
    {
     "data": {
      "application/javascript": [
       "\n",
       "            setTimeout(function() {\n",
       "                var nbb_cell_id = 9;\n",
       "                var nbb_unformatted_code = \"# edit distance on full strings is an expensive operation \\ndf = feature_engineering_pipeline(df)\";\n",
       "                var nbb_formatted_code = \"# edit distance on full strings is an expensive operation\\ndf = feature_engineering_pipeline(df)\";\n",
       "                var nbb_cells = Jupyter.notebook.get_cells();\n",
       "                for (var i = 0; i < nbb_cells.length; ++i) {\n",
       "                    if (nbb_cells[i].input_prompt_number == nbb_cell_id) {\n",
       "                        if (nbb_cells[i].get_text() == nbb_unformatted_code) {\n",
       "                             nbb_cells[i].set_text(nbb_formatted_code);\n",
       "                        }\n",
       "                        break;\n",
       "                    }\n",
       "                }\n",
       "            }, 500);\n",
       "            "
      ],
      "text/plain": [
       "<IPython.core.display.Javascript object>"
      ]
     },
     "metadata": {},
     "output_type": "display_data"
    },
    {
     "name": "stdout",
     "output_type": "stream",
     "text": [
      "time: 51min 24s (started: 2022-09-28 02:25:08 +02:00)\n"
     ]
    }
   ],
   "source": [
    "# edit distance on full strings is an expensive operation\n",
    "df = feature_engineering_pipeline(df)"
   ]
  },
  {
   "cell_type": "code",
   "execution_count": 10,
   "id": "63198641",
   "metadata": {},
   "outputs": [
    {
     "data": {
      "application/javascript": [
       "\n",
       "            setTimeout(function() {\n",
       "                var nbb_cell_id = 10;\n",
       "                var nbb_unformatted_code = \"FEATURES = [\\n    \\\"l_distance\\\",\\n    \\\"l_distance_tokenized\\\",\\n    \\\"j_distance_tokenized\\\",\\n    \\\"len_delta\\\",\\n    \\\"token_count_delta\\\",\\n]\\n\\nTARGET = [\\\"tag\\\"]\\n\\nENTITIES = [\\\"entity_1\\\", \\\"entity_2\\\"]\";\n",
       "                var nbb_formatted_code = \"FEATURES = [\\n    \\\"l_distance\\\",\\n    \\\"l_distance_tokenized\\\",\\n    \\\"j_distance_tokenized\\\",\\n    \\\"len_delta\\\",\\n    \\\"token_count_delta\\\",\\n]\\n\\nTARGET = [\\\"tag\\\"]\\n\\nENTITIES = [\\\"entity_1\\\", \\\"entity_2\\\"]\";\n",
       "                var nbb_cells = Jupyter.notebook.get_cells();\n",
       "                for (var i = 0; i < nbb_cells.length; ++i) {\n",
       "                    if (nbb_cells[i].input_prompt_number == nbb_cell_id) {\n",
       "                        if (nbb_cells[i].get_text() == nbb_unformatted_code) {\n",
       "                             nbb_cells[i].set_text(nbb_formatted_code);\n",
       "                        }\n",
       "                        break;\n",
       "                    }\n",
       "                }\n",
       "            }, 500);\n",
       "            "
      ],
      "text/plain": [
       "<IPython.core.display.Javascript object>"
      ]
     },
     "metadata": {},
     "output_type": "display_data"
    },
    {
     "name": "stdout",
     "output_type": "stream",
     "text": [
      "time: 3.27 ms (started: 2022-09-28 03:16:33 +02:00)\n"
     ]
    }
   ],
   "source": [
    "FEATURES = [\n",
    "    \"l_distance\",\n",
    "    \"l_distance_tokenized\",\n",
    "    \"j_distance_tokenized\",\n",
    "    \"len_delta\",\n",
    "    \"token_count_delta\",\n",
    "]\n",
    "\n",
    "TARGET = [\"tag\"]\n",
    "\n",
    "ENTITIES = [\"entity_1\", \"entity_2\"]"
   ]
  },
  {
   "cell_type": "markdown",
   "id": "20601dbc",
   "metadata": {},
   "source": [
    "# Samples for overview"
   ]
  },
  {
   "cell_type": "code",
   "execution_count": 11,
   "id": "24cf8537",
   "metadata": {},
   "outputs": [
    {
     "data": {
      "text/html": [
       "<div>\n",
       "<style scoped>\n",
       "    .dataframe tbody tr th:only-of-type {\n",
       "        vertical-align: middle;\n",
       "    }\n",
       "\n",
       "    .dataframe tbody tr th {\n",
       "        vertical-align: top;\n",
       "    }\n",
       "\n",
       "    .dataframe thead th {\n",
       "        text-align: right;\n",
       "    }\n",
       "</style>\n",
       "<table border=\"1\" class=\"dataframe\">\n",
       "  <thead>\n",
       "    <tr style=\"text-align: right;\">\n",
       "      <th></th>\n",
       "      <th>l_distance</th>\n",
       "      <th>l_distance_tokenized</th>\n",
       "      <th>j_distance_tokenized</th>\n",
       "      <th>len_delta</th>\n",
       "      <th>token_count_delta</th>\n",
       "      <th>tag</th>\n",
       "    </tr>\n",
       "  </thead>\n",
       "  <tbody>\n",
       "    <tr>\n",
       "      <th>0</th>\n",
       "      <td>0</td>\n",
       "      <td>0</td>\n",
       "      <td>0.000000</td>\n",
       "      <td>0</td>\n",
       "      <td>0</td>\n",
       "      <td>1</td>\n",
       "    </tr>\n",
       "    <tr>\n",
       "      <th>1</th>\n",
       "      <td>31</td>\n",
       "      <td>3</td>\n",
       "      <td>1.000000</td>\n",
       "      <td>30</td>\n",
       "      <td>2</td>\n",
       "      <td>0</td>\n",
       "    </tr>\n",
       "    <tr>\n",
       "      <th>2</th>\n",
       "      <td>0</td>\n",
       "      <td>0</td>\n",
       "      <td>0.000000</td>\n",
       "      <td>0</td>\n",
       "      <td>0</td>\n",
       "      <td>1</td>\n",
       "    </tr>\n",
       "    <tr>\n",
       "      <th>3</th>\n",
       "      <td>7</td>\n",
       "      <td>1</td>\n",
       "      <td>0.666667</td>\n",
       "      <td>7</td>\n",
       "      <td>0</td>\n",
       "      <td>1</td>\n",
       "    </tr>\n",
       "    <tr>\n",
       "      <th>4</th>\n",
       "      <td>32</td>\n",
       "      <td>4</td>\n",
       "      <td>0.625000</td>\n",
       "      <td>32</td>\n",
       "      <td>3</td>\n",
       "      <td>1</td>\n",
       "    </tr>\n",
       "  </tbody>\n",
       "</table>\n",
       "</div>"
      ],
      "text/plain": [
       "   l_distance  l_distance_tokenized  j_distance_tokenized  len_delta  \\\n",
       "0           0                     0              0.000000          0   \n",
       "1          31                     3              1.000000         30   \n",
       "2           0                     0              0.000000          0   \n",
       "3           7                     1              0.666667          7   \n",
       "4          32                     4              0.625000         32   \n",
       "\n",
       "   token_count_delta  tag  \n",
       "0                  0    1  \n",
       "1                  2    0  \n",
       "2                  0    1  \n",
       "3                  0    1  \n",
       "4                  3    1  "
      ]
     },
     "execution_count": 11,
     "metadata": {},
     "output_type": "execute_result"
    },
    {
     "data": {
      "application/javascript": [
       "\n",
       "            setTimeout(function() {\n",
       "                var nbb_cell_id = 11;\n",
       "                var nbb_unformatted_code = \"df[FEATURES + TARGET].head()\";\n",
       "                var nbb_formatted_code = \"df[FEATURES + TARGET].head()\";\n",
       "                var nbb_cells = Jupyter.notebook.get_cells();\n",
       "                for (var i = 0; i < nbb_cells.length; ++i) {\n",
       "                    if (nbb_cells[i].input_prompt_number == nbb_cell_id) {\n",
       "                        if (nbb_cells[i].get_text() == nbb_unformatted_code) {\n",
       "                             nbb_cells[i].set_text(nbb_formatted_code);\n",
       "                        }\n",
       "                        break;\n",
       "                    }\n",
       "                }\n",
       "            }, 500);\n",
       "            "
      ],
      "text/plain": [
       "<IPython.core.display.Javascript object>"
      ]
     },
     "metadata": {},
     "output_type": "display_data"
    },
    {
     "name": "stdout",
     "output_type": "stream",
     "text": [
      "time: 306 ms (started: 2022-09-28 03:16:33 +02:00)\n"
     ]
    }
   ],
   "source": [
    "df[FEATURES + TARGET].head()"
   ]
  },
  {
   "cell_type": "code",
   "execution_count": 12,
   "id": "9da9e7bd",
   "metadata": {},
   "outputs": [
    {
     "data": {
      "text/html": [
       "<div>\n",
       "<style scoped>\n",
       "    .dataframe tbody tr th:only-of-type {\n",
       "        vertical-align: middle;\n",
       "    }\n",
       "\n",
       "    .dataframe tbody tr th {\n",
       "        vertical-align: top;\n",
       "    }\n",
       "\n",
       "    .dataframe thead th {\n",
       "        text-align: right;\n",
       "    }\n",
       "</style>\n",
       "<table border=\"1\" class=\"dataframe\">\n",
       "  <thead>\n",
       "    <tr style=\"text-align: right;\">\n",
       "      <th></th>\n",
       "      <th>entity_1</th>\n",
       "      <th>entity_2</th>\n",
       "      <th>l_distance</th>\n",
       "      <th>l_distance_tokenized</th>\n",
       "      <th>j_distance_tokenized</th>\n",
       "      <th>len_delta</th>\n",
       "      <th>token_count_delta</th>\n",
       "      <th>tag</th>\n",
       "    </tr>\n",
       "  </thead>\n",
       "  <tbody>\n",
       "    <tr>\n",
       "      <th>0</th>\n",
       "      <td>preciform ab</td>\n",
       "      <td>preciform ab</td>\n",
       "      <td>0</td>\n",
       "      <td>0</td>\n",
       "      <td>0.000000</td>\n",
       "      <td>0</td>\n",
       "      <td>0</td>\n",
       "      <td>1</td>\n",
       "    </tr>\n",
       "    <tr>\n",
       "      <th>1</th>\n",
       "      <td>degener staplertechnik vertriebsgmbh</td>\n",
       "      <td>irshim</td>\n",
       "      <td>31</td>\n",
       "      <td>3</td>\n",
       "      <td>1.000000</td>\n",
       "      <td>30</td>\n",
       "      <td>2</td>\n",
       "      <td>0</td>\n",
       "    </tr>\n",
       "    <tr>\n",
       "      <th>2</th>\n",
       "      <td>alltel south carolina inc</td>\n",
       "      <td>alltel south carolina inc</td>\n",
       "      <td>0</td>\n",
       "      <td>0</td>\n",
       "      <td>0.000000</td>\n",
       "      <td>0</td>\n",
       "      <td>0</td>\n",
       "      <td>1</td>\n",
       "    </tr>\n",
       "    <tr>\n",
       "      <th>3</th>\n",
       "      <td>cse corporation</td>\n",
       "      <td>cse corp</td>\n",
       "      <td>7</td>\n",
       "      <td>1</td>\n",
       "      <td>0.666667</td>\n",
       "      <td>7</td>\n",
       "      <td>0</td>\n",
       "      <td>1</td>\n",
       "    </tr>\n",
       "    <tr>\n",
       "      <th>4</th>\n",
       "      <td>gruppo d motors srl</td>\n",
       "      <td>gruppo d motors sociedad de resposabilidad lim...</td>\n",
       "      <td>32</td>\n",
       "      <td>4</td>\n",
       "      <td>0.625000</td>\n",
       "      <td>32</td>\n",
       "      <td>3</td>\n",
       "      <td>1</td>\n",
       "    </tr>\n",
       "  </tbody>\n",
       "</table>\n",
       "</div>"
      ],
      "text/plain": [
       "                               entity_1  \\\n",
       "0                          preciform ab   \n",
       "1  degener staplertechnik vertriebsgmbh   \n",
       "2             alltel south carolina inc   \n",
       "3                       cse corporation   \n",
       "4                   gruppo d motors srl   \n",
       "\n",
       "                                            entity_2  l_distance  \\\n",
       "0                                       preciform ab           0   \n",
       "1                                             irshim          31   \n",
       "2                          alltel south carolina inc           0   \n",
       "3                                           cse corp           7   \n",
       "4  gruppo d motors sociedad de resposabilidad lim...          32   \n",
       "\n",
       "   l_distance_tokenized  j_distance_tokenized  len_delta  token_count_delta  \\\n",
       "0                     0              0.000000          0                  0   \n",
       "1                     3              1.000000         30                  2   \n",
       "2                     0              0.000000          0                  0   \n",
       "3                     1              0.666667          7                  0   \n",
       "4                     4              0.625000         32                  3   \n",
       "\n",
       "   tag  \n",
       "0    1  \n",
       "1    0  \n",
       "2    1  \n",
       "3    1  \n",
       "4    1  "
      ]
     },
     "execution_count": 12,
     "metadata": {},
     "output_type": "execute_result"
    },
    {
     "data": {
      "application/javascript": [
       "\n",
       "            setTimeout(function() {\n",
       "                var nbb_cell_id = 12;\n",
       "                var nbb_unformatted_code = \"df[ENTITIES + FEATURES + TARGET].head()\";\n",
       "                var nbb_formatted_code = \"df[ENTITIES + FEATURES + TARGET].head()\";\n",
       "                var nbb_cells = Jupyter.notebook.get_cells();\n",
       "                for (var i = 0; i < nbb_cells.length; ++i) {\n",
       "                    if (nbb_cells[i].input_prompt_number == nbb_cell_id) {\n",
       "                        if (nbb_cells[i].get_text() == nbb_unformatted_code) {\n",
       "                             nbb_cells[i].set_text(nbb_formatted_code);\n",
       "                        }\n",
       "                        break;\n",
       "                    }\n",
       "                }\n",
       "            }, 500);\n",
       "            "
      ],
      "text/plain": [
       "<IPython.core.display.Javascript object>"
      ]
     },
     "metadata": {},
     "output_type": "display_data"
    },
    {
     "name": "stdout",
     "output_type": "stream",
     "text": [
      "time: 1.16 s (started: 2022-09-28 03:16:33 +02:00)\n"
     ]
    }
   ],
   "source": [
    "df[ENTITIES + FEATURES + TARGET].head()"
   ]
  },
  {
   "cell_type": "markdown",
   "id": "cb4f2fb3",
   "metadata": {},
   "source": [
    "# First Look at the training"
   ]
  },
  {
   "cell_type": "code",
   "execution_count": 13,
   "id": "fc9e9f0c",
   "metadata": {},
   "outputs": [
    {
     "name": "stdout",
     "output_type": "stream",
     "text": [
      "ROC-AUC: 0.9989995905142502\n",
      "[[1039232     687]\n",
      " [    966  719827]]\n",
      "R: 0.9986598094043644\n",
      "P: 0.9990465140163828\n"
     ]
    },
    {
     "data": {
      "application/javascript": [
       "\n",
       "            setTimeout(function() {\n",
       "                var nbb_cell_id = 13;\n",
       "                var nbb_unformatted_code = \"X_train_with_entities, X_test_with_entities, y_train, y_test = train_test_split(\\n    df[ENTITIES + FEATURES],\\n    df[TARGET],\\n)\\n\\nX_train, X_test = X_train_with_entities.drop(\\n    ENTITIES, axis=1\\n), X_test_with_entities.drop(ENTITIES, axis=1)\\n\\nmodel = XGBClassifier(max_depth=2)\\nmodel.fit(X_train, y_train, eval_metric=\\\"auc\\\")\\ny_pred = model.predict(X_test)\\n\\nprint(\\\"ROC-AUC:\\\", roc_auc_score(y_test, y_pred))\\nprint(confusion_matrix(y_test, y_pred))\\nprint(\\\"R:\\\", recall_score(y_test, y_pred))\\n\\nprint(\\\"P:\\\", precision_score(y_test, y_pred))\";\n",
       "                var nbb_formatted_code = \"X_train_with_entities, X_test_with_entities, y_train, y_test = train_test_split(\\n    df[ENTITIES + FEATURES],\\n    df[TARGET],\\n)\\n\\nX_train, X_test = X_train_with_entities.drop(\\n    ENTITIES, axis=1\\n), X_test_with_entities.drop(ENTITIES, axis=1)\\n\\nmodel = XGBClassifier(max_depth=2)\\nmodel.fit(X_train, y_train, eval_metric=\\\"auc\\\")\\ny_pred = model.predict(X_test)\\n\\nprint(\\\"ROC-AUC:\\\", roc_auc_score(y_test, y_pred))\\nprint(confusion_matrix(y_test, y_pred))\\nprint(\\\"R:\\\", recall_score(y_test, y_pred))\\n\\nprint(\\\"P:\\\", precision_score(y_test, y_pred))\";\n",
       "                var nbb_cells = Jupyter.notebook.get_cells();\n",
       "                for (var i = 0; i < nbb_cells.length; ++i) {\n",
       "                    if (nbb_cells[i].input_prompt_number == nbb_cell_id) {\n",
       "                        if (nbb_cells[i].get_text() == nbb_unformatted_code) {\n",
       "                             nbb_cells[i].set_text(nbb_formatted_code);\n",
       "                        }\n",
       "                        break;\n",
       "                    }\n",
       "                }\n",
       "            }, 500);\n",
       "            "
      ],
      "text/plain": [
       "<IPython.core.display.Javascript object>"
      ]
     },
     "metadata": {},
     "output_type": "display_data"
    },
    {
     "name": "stdout",
     "output_type": "stream",
     "text": [
      "time: 38.1 s (started: 2022-09-28 03:16:34 +02:00)\n"
     ]
    }
   ],
   "source": [
    "X_train_with_entities, X_test_with_entities, y_train, y_test = train_test_split(\n",
    "    df[ENTITIES + FEATURES],\n",
    "    df[TARGET],\n",
    ")\n",
    "\n",
    "# X_train_with_entities, X_test_with_entities - we keep this for later!!! Test the Pipeline Section\n",
    "X_train, X_test = X_train_with_entities.drop(\n",
    "    ENTITIES, axis=1\n",
    "), X_test_with_entities.drop(ENTITIES, axis=1)\n",
    "\n",
    "model = XGBClassifier(max_depth=2)\n",
    "model.fit(X_train, y_train, eval_metric=\"auc\")\n",
    "y_pred = model.predict(X_test)\n",
    "\n",
    "print(\"ROC-AUC:\", roc_auc_score(y_test, y_pred))\n",
    "print(confusion_matrix(y_test, y_pred))\n",
    "print(\"R:\", recall_score(y_test, y_pred))\n",
    "\n",
    "print(\"P:\", precision_score(y_test, y_pred))"
   ]
  },
  {
   "cell_type": "markdown",
   "id": "d3791b89",
   "metadata": {},
   "source": [
    "# Distribution of predicted probabilities of having a match"
   ]
  },
  {
   "cell_type": "markdown",
   "id": "5e5cefff",
   "metadata": {},
   "source": [
    "The probabilities are not much more informative than just assigning a 0 or 1 class in this case since they mostly gravitate around 0 and 1. So this would require additional investigation to understand the model better. "
   ]
  },
  {
   "cell_type": "code",
   "execution_count": 64,
   "id": "e2be5276",
   "metadata": {},
   "outputs": [
    {
     "data": {
      "text/plain": [
       "<AxesSubplot:>"
      ]
     },
     "execution_count": 64,
     "metadata": {},
     "output_type": "execute_result"
    },
    {
     "data": {
      "image/png": "[encoded data removed]",
      "text/plain": [
       "<Figure size 432x288 with 1 Axes>"
      ]
     },
     "metadata": {
      "needs_background": "light"
     },
     "output_type": "display_data"
    },
    {
     "data": {
      "application/javascript": [
       "\n",
       "            setTimeout(function() {\n",
       "                var nbb_cell_id = 64;\n",
       "                var nbb_unformatted_code = \"pd.DataFrame(model.predict_proba(X_test), columns=[0, 1])[1].hist()\";\n",
       "                var nbb_formatted_code = \"pd.DataFrame(model.predict_proba(X_test), columns=[0, 1])[1].hist()\";\n",
       "                var nbb_cells = Jupyter.notebook.get_cells();\n",
       "                for (var i = 0; i < nbb_cells.length; ++i) {\n",
       "                    if (nbb_cells[i].input_prompt_number == nbb_cell_id) {\n",
       "                        if (nbb_cells[i].get_text() == nbb_unformatted_code) {\n",
       "                             nbb_cells[i].set_text(nbb_formatted_code);\n",
       "                        }\n",
       "                        break;\n",
       "                    }\n",
       "                }\n",
       "            }, 500);\n",
       "            "
      ],
      "text/plain": [
       "<IPython.core.display.Javascript object>"
      ]
     },
     "metadata": {},
     "output_type": "display_data"
    },
    {
     "name": "stdout",
     "output_type": "stream",
     "text": [
      "time: 393 ms (started: 2022-09-28 23:39:19 +02:00)\n"
     ]
    }
   ],
   "source": [
    "pd.DataFrame(model.predict_proba(X_test), columns=[0, 1])[1].hist()"
   ]
  },
  {
   "cell_type": "code",
   "execution_count": 14,
   "id": "8d37c6d2",
   "metadata": {},
   "outputs": [
    {
     "data": {
      "text/plain": [
       "<AxesSubplot:title={'center':'Feature importance'}, xlabel='Weight', ylabel='Features'>"
      ]
     },
     "execution_count": 14,
     "metadata": {},
     "output_type": "execute_result"
    },
    {
     "data": {
      "image/png": "[encoded data removed]",
      "text/plain": [
       "<Figure size 432x288 with 1 Axes>"
      ]
     },
     "metadata": {
      "needs_background": "light"
     },
     "output_type": "display_data"
    },
    {
     "data": {
      "application/javascript": [
       "\n",
       "            setTimeout(function() {\n",
       "                var nbb_cell_id = 14;\n",
       "                var nbb_unformatted_code = \"xgb.plot_importance(model, importance_type='weight', xlabel='Weight')\";\n",
       "                var nbb_formatted_code = \"xgb.plot_importance(model, importance_type=\\\"weight\\\", xlabel=\\\"Weight\\\")\";\n",
       "                var nbb_cells = Jupyter.notebook.get_cells();\n",
       "                for (var i = 0; i < nbb_cells.length; ++i) {\n",
       "                    if (nbb_cells[i].input_prompt_number == nbb_cell_id) {\n",
       "                        if (nbb_cells[i].get_text() == nbb_unformatted_code) {\n",
       "                             nbb_cells[i].set_text(nbb_formatted_code);\n",
       "                        }\n",
       "                        break;\n",
       "                    }\n",
       "                }\n",
       "            }, 500);\n",
       "            "
      ],
      "text/plain": [
       "<IPython.core.display.Javascript object>"
      ]
     },
     "metadata": {},
     "output_type": "display_data"
    },
    {
     "name": "stdout",
     "output_type": "stream",
     "text": [
      "time: 92.1 ms (started: 2022-09-28 03:17:12 +02:00)\n"
     ]
    }
   ],
   "source": [
    "xgb.plot_importance(model, importance_type='weight', xlabel='Weight')\n"
   ]
  },
  {
   "cell_type": "markdown",
   "id": "59fa4ee4",
   "metadata": {},
   "source": [
    "### Jaccard distance appears to be the feature with most weight, followed by the difference in string lengths and the Levensthein distance."
   ]
  },
  {
   "cell_type": "markdown",
   "id": "498dfd3b",
   "metadata": {},
   "source": [
    "# Cross - Validation"
   ]
  },
  {
   "cell_type": "code",
   "execution_count": 15,
   "id": "d1fd67be",
   "metadata": {},
   "outputs": [
    {
     "data": {
      "application/javascript": [
       "\n",
       "            setTimeout(function() {\n",
       "                var nbb_cell_id = 15;\n",
       "                var nbb_unformatted_code = \"scores = cross_validate(\\n    XGBClassifier(verbosity=0, max_depth=2),\\n    df[FEATURES],\\n    df[TARGET],\\n    cv=10,\\n    scoring=[\\\"recall\\\", \\\"precision\\\", \\\"roc_auc\\\"],\\n)\";\n",
       "                var nbb_formatted_code = \"scores = cross_validate(\\n    XGBClassifier(verbosity=0, max_depth=2),\\n    df[FEATURES],\\n    df[TARGET],\\n    cv=10,\\n    scoring=[\\\"recall\\\", \\\"precision\\\", \\\"roc_auc\\\"],\\n)\";\n",
       "                var nbb_cells = Jupyter.notebook.get_cells();\n",
       "                for (var i = 0; i < nbb_cells.length; ++i) {\n",
       "                    if (nbb_cells[i].input_prompt_number == nbb_cell_id) {\n",
       "                        if (nbb_cells[i].get_text() == nbb_unformatted_code) {\n",
       "                             nbb_cells[i].set_text(nbb_formatted_code);\n",
       "                        }\n",
       "                        break;\n",
       "                    }\n",
       "                }\n",
       "            }, 500);\n",
       "            "
      ],
      "text/plain": [
       "<IPython.core.display.Javascript object>"
      ]
     },
     "metadata": {},
     "output_type": "display_data"
    },
    {
     "name": "stdout",
     "output_type": "stream",
     "text": [
      "time: 7min 18s (started: 2022-09-28 03:17:13 +02:00)\n"
     ]
    }
   ],
   "source": [
    "scores = cross_validate(\n",
    "    XGBClassifier(verbosity=0, max_depth=2),\n",
    "    df[FEATURES],\n",
    "    df[TARGET],\n",
    "    cv=10,\n",
    "    scoring=[\"recall\", \"precision\", \"roc_auc\"],\n",
    ")"
   ]
  },
  {
   "cell_type": "code",
   "execution_count": 16,
   "id": "1d3987dc",
   "metadata": {},
   "outputs": [
    {
     "data": {
      "text/html": [
       "<div>\n",
       "<style scoped>\n",
       "    .dataframe tbody tr th:only-of-type {\n",
       "        vertical-align: middle;\n",
       "    }\n",
       "\n",
       "    .dataframe tbody tr th {\n",
       "        vertical-align: top;\n",
       "    }\n",
       "\n",
       "    .dataframe thead th {\n",
       "        text-align: right;\n",
       "    }\n",
       "</style>\n",
       "<table border=\"1\" class=\"dataframe\">\n",
       "  <thead>\n",
       "    <tr style=\"text-align: right;\">\n",
       "      <th></th>\n",
       "      <th>fit_time</th>\n",
       "      <th>score_time</th>\n",
       "      <th>test_recall</th>\n",
       "      <th>test_precision</th>\n",
       "      <th>test_roc_auc</th>\n",
       "    </tr>\n",
       "  </thead>\n",
       "  <tbody>\n",
       "    <tr>\n",
       "      <th>0</th>\n",
       "      <td>43.721689</td>\n",
       "      <td>0.716339</td>\n",
       "      <td>0.998795</td>\n",
       "      <td>0.999028</td>\n",
       "      <td>0.999986</td>\n",
       "    </tr>\n",
       "    <tr>\n",
       "      <th>1</th>\n",
       "      <td>42.779762</td>\n",
       "      <td>0.711562</td>\n",
       "      <td>0.998705</td>\n",
       "      <td>0.999080</td>\n",
       "      <td>0.999985</td>\n",
       "    </tr>\n",
       "    <tr>\n",
       "      <th>2</th>\n",
       "      <td>41.198232</td>\n",
       "      <td>0.710496</td>\n",
       "      <td>0.998618</td>\n",
       "      <td>0.999118</td>\n",
       "      <td>0.999985</td>\n",
       "    </tr>\n",
       "    <tr>\n",
       "      <th>3</th>\n",
       "      <td>42.827997</td>\n",
       "      <td>0.705750</td>\n",
       "      <td>0.998712</td>\n",
       "      <td>0.998948</td>\n",
       "      <td>0.999988</td>\n",
       "    </tr>\n",
       "    <tr>\n",
       "      <th>4</th>\n",
       "      <td>42.157859</td>\n",
       "      <td>0.694645</td>\n",
       "      <td>0.998754</td>\n",
       "      <td>0.999056</td>\n",
       "      <td>0.999985</td>\n",
       "    </tr>\n",
       "    <tr>\n",
       "      <th>5</th>\n",
       "      <td>45.027830</td>\n",
       "      <td>0.707682</td>\n",
       "      <td>0.998750</td>\n",
       "      <td>0.998983</td>\n",
       "      <td>0.999986</td>\n",
       "    </tr>\n",
       "    <tr>\n",
       "      <th>6</th>\n",
       "      <td>42.501136</td>\n",
       "      <td>0.701101</td>\n",
       "      <td>0.998702</td>\n",
       "      <td>0.998958</td>\n",
       "      <td>0.999984</td>\n",
       "    </tr>\n",
       "    <tr>\n",
       "      <th>7</th>\n",
       "      <td>43.910846</td>\n",
       "      <td>0.691099</td>\n",
       "      <td>0.998761</td>\n",
       "      <td>0.998965</td>\n",
       "      <td>0.999987</td>\n",
       "    </tr>\n",
       "    <tr>\n",
       "      <th>8</th>\n",
       "      <td>43.173896</td>\n",
       "      <td>0.701338</td>\n",
       "      <td>0.998667</td>\n",
       "      <td>0.998955</td>\n",
       "      <td>0.999984</td>\n",
       "    </tr>\n",
       "    <tr>\n",
       "      <th>9</th>\n",
       "      <td>43.247154</td>\n",
       "      <td>0.700358</td>\n",
       "      <td>0.998764</td>\n",
       "      <td>0.999090</td>\n",
       "      <td>0.999985</td>\n",
       "    </tr>\n",
       "  </tbody>\n",
       "</table>\n",
       "</div>"
      ],
      "text/plain": [
       "    fit_time  score_time  test_recall  test_precision  test_roc_auc\n",
       "0  43.721689    0.716339     0.998795        0.999028      0.999986\n",
       "1  42.779762    0.711562     0.998705        0.999080      0.999985\n",
       "2  41.198232    0.710496     0.998618        0.999118      0.999985\n",
       "3  42.827997    0.705750     0.998712        0.998948      0.999988\n",
       "4  42.157859    0.694645     0.998754        0.999056      0.999985\n",
       "5  45.027830    0.707682     0.998750        0.998983      0.999986\n",
       "6  42.501136    0.701101     0.998702        0.998958      0.999984\n",
       "7  43.910846    0.691099     0.998761        0.998965      0.999987\n",
       "8  43.173896    0.701338     0.998667        0.998955      0.999984\n",
       "9  43.247154    0.700358     0.998764        0.999090      0.999985"
      ]
     },
     "execution_count": 16,
     "metadata": {},
     "output_type": "execute_result"
    },
    {
     "data": {
      "application/javascript": [
       "\n",
       "            setTimeout(function() {\n",
       "                var nbb_cell_id = 16;\n",
       "                var nbb_unformatted_code = \"pd.DataFrame(scores)\";\n",
       "                var nbb_formatted_code = \"pd.DataFrame(scores)\";\n",
       "                var nbb_cells = Jupyter.notebook.get_cells();\n",
       "                for (var i = 0; i < nbb_cells.length; ++i) {\n",
       "                    if (nbb_cells[i].input_prompt_number == nbb_cell_id) {\n",
       "                        if (nbb_cells[i].get_text() == nbb_unformatted_code) {\n",
       "                             nbb_cells[i].set_text(nbb_formatted_code);\n",
       "                        }\n",
       "                        break;\n",
       "                    }\n",
       "                }\n",
       "            }, 500);\n",
       "            "
      ],
      "text/plain": [
       "<IPython.core.display.Javascript object>"
      ]
     },
     "metadata": {},
     "output_type": "display_data"
    },
    {
     "name": "stdout",
     "output_type": "stream",
     "text": [
      "time: 8.43 ms (started: 2022-09-28 03:24:31 +02:00)\n"
     ]
    }
   ],
   "source": [
    "pd.DataFrame(scores)"
   ]
  },
  {
   "cell_type": "markdown",
   "id": "fa45d14a",
   "metadata": {},
   "source": [
    "### The metrics seem stable for all the splits. "
   ]
  },
  {
   "cell_type": "markdown",
   "id": "c0ac829a",
   "metadata": {},
   "source": [
    "# Test the Prototype "
   ]
  },
  {
   "cell_type": "code",
   "execution_count": 54,
   "id": "54997165",
   "metadata": {},
   "outputs": [
    {
     "data": {
      "application/javascript": [
       "\n",
       "            setTimeout(function() {\n",
       "                var nbb_cell_id = 54;\n",
       "                var nbb_unformatted_code = \"def transform_input(e1, e2):\\n    df = pd.DataFrame([[e1, e2]], columns=[\\\"entity_1\\\", \\\"entity_2\\\"])\\n    df = text_cleaning_pipeline(df)\\n    df = feature_engineering_pipeline(df)\\n\\n    return df\\n\\n\\ndef get_entity_similarity(e1, e2, model):\\n    df = transform_input(e1, e2)\\n    probs = model.predict_proba(df[FEATURES])\\n    return round(probs[0][1], 4)\\n\\n\\ndef get_random_entity_pair(df):\\n    return df.sample()[[\\\"entity_1\\\", \\\"entity_2\\\"]].values.flatten().tolist()\";\n",
       "                var nbb_formatted_code = \"def transform_input(e1, e2):\\n    df = pd.DataFrame([[e1, e2]], columns=[\\\"entity_1\\\", \\\"entity_2\\\"])\\n    df = text_cleaning_pipeline(df)\\n    df = feature_engineering_pipeline(df)\\n\\n    return df\\n\\n\\ndef get_entity_similarity(e1, e2, model):\\n    df = transform_input(e1, e2)\\n    probs = model.predict_proba(df[FEATURES])\\n    return round(probs[0][1], 4)\\n\\n\\ndef get_random_entity_pair(df):\\n    return df.sample()[[\\\"entity_1\\\", \\\"entity_2\\\"]].values.flatten().tolist()\";\n",
       "                var nbb_cells = Jupyter.notebook.get_cells();\n",
       "                for (var i = 0; i < nbb_cells.length; ++i) {\n",
       "                    if (nbb_cells[i].input_prompt_number == nbb_cell_id) {\n",
       "                        if (nbb_cells[i].get_text() == nbb_unformatted_code) {\n",
       "                             nbb_cells[i].set_text(nbb_formatted_code);\n",
       "                        }\n",
       "                        break;\n",
       "                    }\n",
       "                }\n",
       "            }, 500);\n",
       "            "
      ],
      "text/plain": [
       "<IPython.core.display.Javascript object>"
      ]
     },
     "metadata": {},
     "output_type": "display_data"
    },
    {
     "name": "stdout",
     "output_type": "stream",
     "text": [
      "time: 10.2 ms (started: 2022-09-28 23:32:14 +02:00)\n"
     ]
    }
   ],
   "source": [
    "def transform_input(e1, e2):\n",
    "    df = pd.DataFrame([[e1, e2]], columns=[\"entity_1\", \"entity_2\"])\n",
    "    df = text_cleaning_pipeline(df)\n",
    "    df = feature_engineering_pipeline(df)\n",
    "\n",
    "    return df\n",
    "\n",
    "\n",
    "def get_entity_similarity(e1, e2, model):\n",
    "    df = transform_input(e1, e2)\n",
    "    probs = model.predict_proba(df[FEATURES])\n",
    "    return round(probs[0][1], 4)\n",
    "\n",
    "\n",
    "def get_random_entity_pair(df):\n",
    "    return df.sample()[[\"entity_1\", \"entity_2\"]].values.flatten().tolist()"
   ]
  },
  {
   "cell_type": "code",
   "execution_count": 57,
   "id": "e2dfbfd2",
   "metadata": {},
   "outputs": [
    {
     "name": "stdout",
     "output_type": "stream",
     "text": [
      "\n",
      "    E1: granite city armored car inc\n",
      "    E2: granite city armored car inc\n",
      "    \n",
      "SIMILARITY: 1.000\n",
      "\n",
      "    E1: lcy technology corporationoration\n",
      "    E2: pacific crest industries inc\n",
      "    \n",
      "SIMILARITY: 0.000\n",
      "\n",
      "    E1: isdn holdings ltd\n",
      "    E2: tristate camera and\n",
      "    \n",
      "SIMILARITY: 0.000\n",
      "\n",
      "    E1: ysofer esca\n",
      "    E2: hekamerk ou\n",
      "    \n",
      "SIMILARITY: 0.000\n",
      "\n",
      "    E1: ultra packaging inc\n",
      "    E2: hansa plastics inc\n",
      "    \n",
      "SIMILARITY: 0.005\n",
      "\n",
      "    E1: ekoil a w likwidacji sp\n",
      "    E2: allsun\n",
      "    \n",
      "SIMILARITY: 0.000\n",
      "\n",
      "    E1: luoyang glass coltd\n",
      "    E2: olivertolas healthcare packaging\n",
      "    \n",
      "SIMILARITY: 0.000\n",
      "\n",
      "    E1: freas glass works inc\n",
      "    E2: freas glass works inc\n",
      "    \n",
      "SIMILARITY: 1.000\n",
      "\n",
      "    E1: audio dynamix\n",
      "    E2: flying whales\n",
      "    \n",
      "SIMILARITY: 0.000\n",
      "\n",
      "    E1: prime tanning corp\n",
      "    E2: prime tanning corp\n",
      "    \n",
      "SIMILARITY: 1.000\n",
      "\n",
      "    E1: triad freightliner of\n",
      "    E2: trustee for parrish\n",
      "    \n",
      "SIMILARITY: 0.000\n",
      "\n",
      "    E1: ergon inc\n",
      "    E2: clay ingels\n",
      "    \n",
      "SIMILARITY: 0.000\n",
      "\n",
      "    E1: fuga uros sa\n",
      "    E2: fuga couros sa\n",
      "    \n",
      "SIMILARITY: 1.000\n",
      "\n",
      "    E1: mesquite dealership acquisition\n",
      "    E2: poly pipes industryia pvt\n",
      "    \n",
      "SIMILARITY: 0.000\n",
      "\n",
      "    E1: sysage technology co ltd\n",
      "    E2: sysage technology co\n",
      "    \n",
      "SIMILARITY: 1.000\n",
      "\n",
      "    E1: ngu international co\n",
      "    E2: ngu international co ltd\n",
      "    \n",
      "SIMILARITY: 1.000\n",
      "\n",
      "    E1: autobussen en autocars weyn achiel en\n",
      "    E2: shortline automotive inc\n",
      "    \n",
      "SIMILARITY: 0.000\n",
      "\n",
      "    E1: coutts courier co ltd\n",
      "    E2: coutts courier coltd\n",
      "    \n",
      "SIMILARITY: 1.000\n",
      "\n",
      "    E1: mitsubishi motors malaysia\n",
      "    E2: byg picces dusure\n",
      "    \n",
      "SIMILARITY: 0.000\n",
      "\n",
      "    E1: rohlig france\n",
      "    E2: ebeck inc\n",
      "    \n",
      "SIMILARITY: 0.000\n"
     ]
    },
    {
     "data": {
      "application/javascript": [
       "\n",
       "            setTimeout(function() {\n",
       "                var nbb_cell_id = 57;\n",
       "                var nbb_unformatted_code = \"for item in range(0, 20):\\n    e1, e2 = get_random_entity_pair(X_test_with_entities)\\n    print(\\n        f\\\"\\\"\\\"\\n    E1: {e1}\\n    E2: {e2}\\n    \\\"\\\"\\\"\\n    )\\n    print(f\\\"SIMILARITY: {get_entity_similarity(e1,e2, model):.3f}\\\")\";\n",
       "                var nbb_formatted_code = \"for item in range(0, 20):\\n    e1, e2 = get_random_entity_pair(X_test_with_entities)\\n    print(\\n        f\\\"\\\"\\\"\\n    E1: {e1}\\n    E2: {e2}\\n    \\\"\\\"\\\"\\n    )\\n    print(f\\\"SIMILARITY: {get_entity_similarity(e1,e2, model):.3f}\\\")\";\n",
       "                var nbb_cells = Jupyter.notebook.get_cells();\n",
       "                for (var i = 0; i < nbb_cells.length; ++i) {\n",
       "                    if (nbb_cells[i].input_prompt_number == nbb_cell_id) {\n",
       "                        if (nbb_cells[i].get_text() == nbb_unformatted_code) {\n",
       "                             nbb_cells[i].set_text(nbb_formatted_code);\n",
       "                        }\n",
       "                        break;\n",
       "                    }\n",
       "                }\n",
       "            }, 500);\n",
       "            "
      ],
      "text/plain": [
       "<IPython.core.display.Javascript object>"
      ]
     },
     "metadata": {},
     "output_type": "display_data"
    },
    {
     "name": "stdout",
     "output_type": "stream",
     "text": [
      "time: 714 ms (started: 2022-09-28 23:35:35 +02:00)\n"
     ]
    }
   ],
   "source": [
    "for item in range(0, 20):\n",
    "    e1, e2 = get_random_entity_pair(X_test_with_entities)\n",
    "    print(\n",
    "        f\"\"\"\n",
    "    E1: {e1}\n",
    "    E2: {e2}\n",
    "    \"\"\"\n",
    "    )\n",
    "    print(f\"SIMILARITY: {get_entity_similarity(e1,e2, model):.3f}\")"
   ]
  },
  {
   "cell_type": "markdown",
   "id": "d307f48f",
   "metadata": {},
   "source": [
    "# Explore missclassified items"
   ]
  },
  {
   "cell_type": "code",
   "execution_count": 105,
   "id": "97ddeb68",
   "metadata": {},
   "outputs": [
    {
     "data": {
      "application/javascript": [
       "\n",
       "            setTimeout(function() {\n",
       "                var nbb_cell_id = 105;\n",
       "                var nbb_unformatted_code = \"df_predicted = pd.DataFrame(y_pred, columns=[\\\"predicted\\\"])\\ndf_explore = X_test_with_entities.join(y_test)\\ndf_explore[\\\"predicted\\\"] = df_predicted[\\\"predicted\\\"].values\";\n",
       "                var nbb_formatted_code = \"df_predicted = pd.DataFrame(y_pred, columns=[\\\"predicted\\\"])\\ndf_explore = X_test_with_entities.join(y_test)\\ndf_explore[\\\"predicted\\\"] = df_predicted[\\\"predicted\\\"].values\";\n",
       "                var nbb_cells = Jupyter.notebook.get_cells();\n",
       "                for (var i = 0; i < nbb_cells.length; ++i) {\n",
       "                    if (nbb_cells[i].input_prompt_number == nbb_cell_id) {\n",
       "                        if (nbb_cells[i].get_text() == nbb_unformatted_code) {\n",
       "                             nbb_cells[i].set_text(nbb_formatted_code);\n",
       "                        }\n",
       "                        break;\n",
       "                    }\n",
       "                }\n",
       "            }, 500);\n",
       "            "
      ],
      "text/plain": [
       "<IPython.core.display.Javascript object>"
      ]
     },
     "metadata": {},
     "output_type": "display_data"
    },
    {
     "name": "stdout",
     "output_type": "stream",
     "text": [
      "time: 263 ms (started: 2022-09-29 00:02:06 +02:00)\n"
     ]
    }
   ],
   "source": [
    "df_predicted = pd.DataFrame(y_pred, columns=[\"predicted\"])\n",
    "df_explore = X_test_with_entities.join(y_test)\n",
    "df_explore[\"predicted\"] = df_predicted[\"predicted\"].values"
   ]
  },
  {
   "cell_type": "code",
   "execution_count": 106,
   "id": "e10aa4d5",
   "metadata": {},
   "outputs": [
    {
     "data": {
      "application/javascript": [
       "\n",
       "            setTimeout(function() {\n",
       "                var nbb_cell_id = 106;\n",
       "                var nbb_unformatted_code = \"df_explore[\\\"miss\\\"] = abs(df_explore[\\\"tag\\\"] - df_explore[\\\"predicted\\\"])\";\n",
       "                var nbb_formatted_code = \"df_explore[\\\"miss\\\"] = abs(df_explore[\\\"tag\\\"] - df_explore[\\\"predicted\\\"])\";\n",
       "                var nbb_cells = Jupyter.notebook.get_cells();\n",
       "                for (var i = 0; i < nbb_cells.length; ++i) {\n",
       "                    if (nbb_cells[i].input_prompt_number == nbb_cell_id) {\n",
       "                        if (nbb_cells[i].get_text() == nbb_unformatted_code) {\n",
       "                             nbb_cells[i].set_text(nbb_formatted_code);\n",
       "                        }\n",
       "                        break;\n",
       "                    }\n",
       "                }\n",
       "            }, 500);\n",
       "            "
      ],
      "text/plain": [
       "<IPython.core.display.Javascript object>"
      ]
     },
     "metadata": {},
     "output_type": "display_data"
    },
    {
     "name": "stdout",
     "output_type": "stream",
     "text": [
      "time: 24.1 ms (started: 2022-09-29 00:02:12 +02:00)\n"
     ]
    }
   ],
   "source": [
    "df_explore[\"miss\"] = abs(df_explore[\"tag\"] - df_explore[\"predicted\"])"
   ]
  },
  {
   "cell_type": "code",
   "execution_count": 108,
   "id": "9c4e1223",
   "metadata": {},
   "outputs": [
    {
     "data": {
      "text/html": [
       "<div>\n",
       "<style scoped>\n",
       "    .dataframe tbody tr th:only-of-type {\n",
       "        vertical-align: middle;\n",
       "    }\n",
       "\n",
       "    .dataframe tbody tr th {\n",
       "        vertical-align: top;\n",
       "    }\n",
       "\n",
       "    .dataframe thead th {\n",
       "        text-align: right;\n",
       "    }\n",
       "</style>\n",
       "<table border=\"1\" class=\"dataframe\">\n",
       "  <thead>\n",
       "    <tr style=\"text-align: right;\">\n",
       "      <th></th>\n",
       "      <th>entity_1</th>\n",
       "      <th>entity_2</th>\n",
       "      <th>l_distance</th>\n",
       "      <th>l_distance_tokenized</th>\n",
       "      <th>j_distance_tokenized</th>\n",
       "      <th>len_delta</th>\n",
       "      <th>token_count_delta</th>\n",
       "      <th>tag</th>\n",
       "      <th>predicted</th>\n",
       "      <th>miss</th>\n",
       "    </tr>\n",
       "  </thead>\n",
       "  <tbody>\n",
       "    <tr>\n",
       "      <th>5733959</th>\n",
       "      <td>datecs ood</td>\n",
       "      <td>datecs drujestvo s ogranichena</td>\n",
       "      <td>21</td>\n",
       "      <td>3</td>\n",
       "      <td>0.800000</td>\n",
       "      <td>20</td>\n",
       "      <td>2</td>\n",
       "      <td>1</td>\n",
       "      <td>0</td>\n",
       "      <td>1</td>\n",
       "    </tr>\n",
       "    <tr>\n",
       "      <th>2049929</th>\n",
       "      <td>cls inc</td>\n",
       "      <td>xfmrs inc</td>\n",
       "      <td>4</td>\n",
       "      <td>1</td>\n",
       "      <td>0.666667</td>\n",
       "      <td>2</td>\n",
       "      <td>0</td>\n",
       "      <td>0</td>\n",
       "      <td>1</td>\n",
       "      <td>1</td>\n",
       "    </tr>\n",
       "    <tr>\n",
       "      <th>2154111</th>\n",
       "      <td>richard sociedade anônimanders</td>\n",
       "      <td>richard sanders nissan</td>\n",
       "      <td>16</td>\n",
       "      <td>2</td>\n",
       "      <td>0.800000</td>\n",
       "      <td>8</td>\n",
       "      <td>0</td>\n",
       "      <td>1</td>\n",
       "      <td>0</td>\n",
       "      <td>1</td>\n",
       "    </tr>\n",
       "    <tr>\n",
       "      <th>3132148</th>\n",
       "      <td>pat salmon and sons inc</td>\n",
       "      <td>mike and sons oil</td>\n",
       "      <td>13</td>\n",
       "      <td>3</td>\n",
       "      <td>0.714286</td>\n",
       "      <td>6</td>\n",
       "      <td>1</td>\n",
       "      <td>0</td>\n",
       "      <td>1</td>\n",
       "      <td>1</td>\n",
       "    </tr>\n",
       "    <tr>\n",
       "      <th>574669</th>\n",
       "      <td>la spa ou</td>\n",
       "      <td>la sociedad por acciones</td>\n",
       "      <td>17</td>\n",
       "      <td>3</td>\n",
       "      <td>0.833333</td>\n",
       "      <td>15</td>\n",
       "      <td>1</td>\n",
       "      <td>1</td>\n",
       "      <td>0</td>\n",
       "      <td>1</td>\n",
       "    </tr>\n",
       "    <tr>\n",
       "      <th>...</th>\n",
       "      <td>...</td>\n",
       "      <td>...</td>\n",
       "      <td>...</td>\n",
       "      <td>...</td>\n",
       "      <td>...</td>\n",
       "      <td>...</td>\n",
       "      <td>...</td>\n",
       "      <td>...</td>\n",
       "      <td>...</td>\n",
       "      <td>...</td>\n",
       "    </tr>\n",
       "    <tr>\n",
       "      <th>6616638</th>\n",
       "      <td>oil technology</td>\n",
       "      <td>optus resin technology</td>\n",
       "      <td>9</td>\n",
       "      <td>2</td>\n",
       "      <td>0.750000</td>\n",
       "      <td>8</td>\n",
       "      <td>1</td>\n",
       "      <td>0</td>\n",
       "      <td>1</td>\n",
       "      <td>1</td>\n",
       "    </tr>\n",
       "    <tr>\n",
       "      <th>6479665</th>\n",
       "      <td>hoppygo společnost s ručením omezeným</td>\n",
       "      <td>hoppygo sro</td>\n",
       "      <td>26</td>\n",
       "      <td>4</td>\n",
       "      <td>0.833333</td>\n",
       "      <td>26</td>\n",
       "      <td>3</td>\n",
       "      <td>1</td>\n",
       "      <td>0</td>\n",
       "      <td>1</td>\n",
       "    </tr>\n",
       "    <tr>\n",
       "      <th>1527833</th>\n",
       "      <td>dart sa de cv</td>\n",
       "      <td>dart sociedade anônima</td>\n",
       "      <td>13</td>\n",
       "      <td>3</td>\n",
       "      <td>0.833333</td>\n",
       "      <td>9</td>\n",
       "      <td>1</td>\n",
       "      <td>1</td>\n",
       "      <td>0</td>\n",
       "      <td>1</td>\n",
       "    </tr>\n",
       "    <tr>\n",
       "      <th>2562716</th>\n",
       "      <td>pacific marine systems</td>\n",
       "      <td>pls pacific laser systems</td>\n",
       "      <td>9</td>\n",
       "      <td>2</td>\n",
       "      <td>0.600000</td>\n",
       "      <td>3</td>\n",
       "      <td>1</td>\n",
       "      <td>0</td>\n",
       "      <td>1</td>\n",
       "      <td>1</td>\n",
       "    </tr>\n",
       "    <tr>\n",
       "      <th>3924516</th>\n",
       "      <td>futurex lp</td>\n",
       "      <td>futurex limited liability partnership</td>\n",
       "      <td>27</td>\n",
       "      <td>3</td>\n",
       "      <td>0.800000</td>\n",
       "      <td>27</td>\n",
       "      <td>2</td>\n",
       "      <td>1</td>\n",
       "      <td>0</td>\n",
       "      <td>1</td>\n",
       "    </tr>\n",
       "  </tbody>\n",
       "</table>\n",
       "<p>1653 rows × 10 columns</p>\n",
       "</div>"
      ],
      "text/plain": [
       "                                      entity_1  \\\n",
       "5733959                             datecs ood   \n",
       "2049929                                cls inc   \n",
       "2154111         richard sociedade anônimanders   \n",
       "3132148                pat salmon and sons inc   \n",
       "574669                               la spa ou   \n",
       "...                                        ...   \n",
       "6616638                         oil technology   \n",
       "6479665  hoppygo společnost s ručením omezeným   \n",
       "1527833                          dart sa de cv   \n",
       "2562716                 pacific marine systems   \n",
       "3924516                             futurex lp   \n",
       "\n",
       "                                      entity_2  l_distance  \\\n",
       "5733959         datecs drujestvo s ogranichena          21   \n",
       "2049929                              xfmrs inc           4   \n",
       "2154111                 richard sanders nissan          16   \n",
       "3132148                      mike and sons oil          13   \n",
       "574669                la sociedad por acciones          17   \n",
       "...                                        ...         ...   \n",
       "6616638                 optus resin technology           9   \n",
       "6479665                            hoppygo sro          26   \n",
       "1527833                 dart sociedade anônima          13   \n",
       "2562716              pls pacific laser systems           9   \n",
       "3924516  futurex limited liability partnership          27   \n",
       "\n",
       "         l_distance_tokenized  j_distance_tokenized  len_delta  \\\n",
       "5733959                     3              0.800000         20   \n",
       "2049929                     1              0.666667          2   \n",
       "2154111                     2              0.800000          8   \n",
       "3132148                     3              0.714286          6   \n",
       "574669                      3              0.833333         15   \n",
       "...                       ...                   ...        ...   \n",
       "6616638                     2              0.750000          8   \n",
       "6479665                     4              0.833333         26   \n",
       "1527833                     3              0.833333          9   \n",
       "2562716                     2              0.600000          3   \n",
       "3924516                     3              0.800000         27   \n",
       "\n",
       "         token_count_delta  tag  predicted  miss  \n",
       "5733959                  2    1          0     1  \n",
       "2049929                  0    0          1     1  \n",
       "2154111                  0    1          0     1  \n",
       "3132148                  1    0          1     1  \n",
       "574669                   1    1          0     1  \n",
       "...                    ...  ...        ...   ...  \n",
       "6616638                  1    0          1     1  \n",
       "6479665                  3    1          0     1  \n",
       "1527833                  1    1          0     1  \n",
       "2562716                  1    0          1     1  \n",
       "3924516                  2    1          0     1  \n",
       "\n",
       "[1653 rows x 10 columns]"
      ]
     },
     "execution_count": 108,
     "metadata": {},
     "output_type": "execute_result"
    },
    {
     "data": {
      "application/javascript": [
       "\n",
       "            setTimeout(function() {\n",
       "                var nbb_cell_id = 108;\n",
       "                var nbb_unformatted_code = \"df_explore[df_explore[\\\"miss\\\"] == 1]\";\n",
       "                var nbb_formatted_code = \"df_explore[df_explore[\\\"miss\\\"] == 1]\";\n",
       "                var nbb_cells = Jupyter.notebook.get_cells();\n",
       "                for (var i = 0; i < nbb_cells.length; ++i) {\n",
       "                    if (nbb_cells[i].input_prompt_number == nbb_cell_id) {\n",
       "                        if (nbb_cells[i].get_text() == nbb_unformatted_code) {\n",
       "                             nbb_cells[i].set_text(nbb_formatted_code);\n",
       "                        }\n",
       "                        break;\n",
       "                    }\n",
       "                }\n",
       "            }, 500);\n",
       "            "
      ],
      "text/plain": [
       "<IPython.core.display.Javascript object>"
      ]
     },
     "metadata": {},
     "output_type": "display_data"
    },
    {
     "name": "stdout",
     "output_type": "stream",
     "text": [
      "time: 46 ms (started: 2022-09-29 00:03:18 +02:00)\n"
     ]
    }
   ],
   "source": [
    "df_explore[df_explore[\"miss\"] == 1]"
   ]
  },
  {
   "cell_type": "markdown",
   "id": "0d73ddee",
   "metadata": {},
   "source": [
    "The model struggles with abbreviations. \n",
    "\n",
    "ie. \"futurex lp\" and \"futurex limited liability partnership\" are the same thing, but we missclassified it. \n",
    "ie. \"la spa\" ou and \"la sociedad por acciones\"\n",
    " \n",
    "The other issue is because to much weight is given to jaccard similarity: \n",
    "i.e \"oil technology\" and \"optus resin technolog\" obviously not the same, but we missclassified it. "
   ]
  },
  {
   "cell_type": "markdown",
   "id": "d0915eb1",
   "metadata": {},
   "source": [
    "# How to deploy?"
   ]
  },
  {
   "cell_type": "markdown",
   "id": "5c95de3a",
   "metadata": {},
   "source": [
    "Assuming that we would want to create a microservice, I would separate the system into 2 parts:\n",
    "    * Model Retraining \n",
    "    * Model Serving \n",
    "    \n",
    "### Model Retrainign \n",
    "\n",
    "We could have a simple .py script that follows the steps:\n",
    "\n",
    "```\n",
    "df = text_cleaning_pipeline(df) # function provided above\n",
    "df = feature_engineering_pipeline(df) # function provided above\n",
    "\n",
    "FEATURES = [\n",
    "\"l_distance\",\n",
    "\"l_distance_tokenized\",\n",
    "\"j_distance_tokenized\",\n",
    "\"len_delta\",\n",
    "\"token_count_delta\",\n",
    "]\n",
    "\n",
    "TARGET = [\"tag\"]\n",
    "\n",
    "model = XGBClassifier(max_depth=2)\n",
    "model.fit(X_train, y_train, eval_metric=\"auc\")\n",
    "y_pred = model.predict(X_test)\n",
    "\n",
    "# For monitoring purposses \n",
    "print(\"ROC-AUC:\", roc_auc_score(y_test, y_pred))\n",
    "print(confusion_matrix(y_test, y_pred))\n",
    "print(\"R:\", recall_score(y_test, y_pred))\n",
    "\n",
    "print(\"P:\", precision_score(y_test, y_pred))\n",
    "\n",
    "model.to_pickle()\n",
    "```\n",
    "\n",
    "### Model Serving\n",
    "\n",
    "Simple API with 2 input parameters entity_1 and entity_2\n",
    "which are then passed to: \n",
    "\n",
    "```\n",
    "    get_entity_similarity(e1,e2, model) # function provided above \n",
    "```\n",
    "\n",
    "For the API we could use FastAPI or Flask \n",
    "\n",
    "All of this should be dockerized and can be hosted with a cloud provider such as AWS where we can spin an instance and run a docker image containing the service and model retraining. \n"
   ]
  }
 ],
 "metadata": {
  "kernelspec": {
   "display_name": "alpas",
   "language": "python",
   "name": "alpas"
  },
  "language_info": {
   "codemirror_mode": {
    "name": "ipython",
    "version": 3
   },
   "file_extension": ".py",
   "mimetype": "text/x-python",
   "name": "python",
   "nbconvert_exporter": "python",
   "pygments_lexer": "ipython3",
   "version": "3.8.13"
  }
 },
 "nbformat": 4,
 "nbformat_minor": 5
}
